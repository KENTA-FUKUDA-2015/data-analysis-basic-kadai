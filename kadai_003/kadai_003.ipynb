{
  "nbformat": 4,
  "nbformat_minor": 0,
  "metadata": {
    "colab": {
      "provenance": []
    },
    "kernelspec": {
      "name": "python3",
      "display_name": "Python 3"
    },
    "language_info": {
      "name": "python"
    }
  },
  "cells": [
    {
      "cell_type": "code",
      "execution_count": 11,
      "metadata": {
        "colab": {
          "base_uri": "https://localhost:8080/"
        },
        "id": "fbaLK2UMvfzj",
        "outputId": "bcbf9fbd-e12b-43e5-a317-7b8ff47bc08f"
      },
      "outputs": [
        {
          "output_type": "stream",
          "name": "stdout",
          "text": [
            "Step3.の計算結果は:\n",
            " [[ 4  5  6  7]\n",
            " [12 17 22 27]\n",
            " [20 29 38 47]]\n",
            "行列の要素の最大値は:\n",
            " 47\n"
          ]
        }
      ],
      "source": [
        "# Step1.Numpyをインポートするコードを記述する\n",
        "import numpy as np\n",
        "\n",
        "# Step2.AとBの行列を格納する多次元配列のコードを記述する\n",
        "A = np.array([[0, 1], [2, 3], [4, 5]])\n",
        "B = np.array([[0, 1, 2, 3], [4, 5, 6, 7]])\n",
        "\n",
        "# Step3.行列の積の計算をするコードを記述する\n",
        "np.dot(A, B)\n",
        "\n",
        "# Step4.Step3.の計算結果を表示するコードを記述する\n",
        "calculation_result_AB = np.dot(A, B)\n",
        "print(\"Step3.の計算結果は:\\n\", calculation_result_AB)\n",
        "\n",
        "# Step5.行列の要素の最大値を求めるコードを記述する\n",
        "calculation_result_AB.max()\n",
        "print(\"行列の要素の最大値は:\\n\", calculation_result_AB.max())"
      ]
    }
  ]
}